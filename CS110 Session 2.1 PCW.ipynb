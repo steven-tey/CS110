{
 "cells": [
  {
   "cell_type": "markdown",
   "metadata": {},
   "source": [
    "Before you turn this problem in, make sure everything runs as expected. First, **restart the kernel** (in the menubar, select Kernel$\\rightarrow$Restart) and then **run all cells** (in the menubar, select Cell$\\rightarrow$Run All).\n",
    "\n",
    "Make sure you fill in any place that says `YOUR CODE HERE` or \"YOUR ANSWER HERE\", as well as your name and collaborators below:"
   ]
  },
  {
   "cell_type": "code",
   "execution_count": 271,
   "metadata": {},
   "outputs": [],
   "source": [
    "NAME = \"Feng Nian Tey\"\n",
    "COLLABORATORS = None"
   ]
  },
  {
   "cell_type": "markdown",
   "metadata": {},
   "source": [
    "---"
   ]
  },
  {
   "cell_type": "markdown",
   "metadata": {
    "deletable": false,
    "editable": false,
    "nbgrader": {
     "checksum": "4394bdd5d17d8ce7ce4e758066ee0266",
     "grade": false,
     "grade_id": "cell-9e44910e5a73668d",
     "locked": true,
     "schema_version": 1,
     "solution": false
    }
   },
   "source": [
    "# CS110 Pre-class Work 2.1\n",
    "\n",
    "## Question 1.\n",
    "\n",
    "First, please read carefully [this note](https://drive.google.com/open?id=1SfrRTKWDb6szsJENgvNF7-u2B96ecaF2) which reviews the MERGE operation in Cormen et al.\n",
    "\n",
    "After reviewing the example above (Cormen et. al., Figure 2.3),  you need to manually create similar illustrations as in the example above but this time for the input array:\n",
    "\n",
    "![array](array.png)\n",
    "\n",
    "For this exercise, assume that the call to the algorithm is MERGE(A, 1, 3, 6) and draw different resulting stages of the arrays A, L, and R as the merge algorithm is executed.  You can hand-draw or use any drawing tool to produce panel illustrations as in the example above.  Include your final drawings in the cell below. Feel free to use additional cells (Markdown or Code) for this question.\n"
   ]
  },
  {
   "cell_type": "markdown",
   "metadata": {
    "deletable": false,
    "nbgrader": {
     "checksum": "b4d0caf51fb6b587f68db4e806af35d0",
     "grade": true,
     "grade_id": "cell-badbff7790708987",
     "locked": false,
     "points": 0,
     "schema_version": 1,
     "solution": true
    }
   },
   "source": [
    "![Question1](Question1.png)\n",
    "\n",
    "As you can see in the diagram above, we separated the array according to the parameters specified in the MERGE(A, 1, 3, 6) function - the first part was terms 1-3, and the second part was terms 4-6. \n",
    "\n",
    "Then, the new array R was separated again into R<sub>1</sub> and R<sub>2</sub>, since the terms within that array was not sorted. \n",
    "\n",
    "The merge sort algorithm was performed for arrays R<sub>1</sub> and R<sub>2</sub>, and then for arrays L and R."
   ]
  },
  {
   "cell_type": "markdown",
   "metadata": {
    "deletable": false,
    "editable": false,
    "nbgrader": {
     "checksum": "7c9608898d23ecbe07c084ca6d6da655",
     "grade": false,
     "grade_id": "cell-6dd1317d1ea8ab9f",
     "locked": true,
     "schema_version": 1,
     "solution": false
    }
   },
   "source": [
    "## Question 2.\n",
    "Now using your understanding of Part I of the merge algorithm, can you think of an efficient way to implement this part in Python? (hint: using Python list). Give your answer in prose in the cell below."
   ]
  },
  {
   "cell_type": "markdown",
   "metadata": {
    "deletable": false,
    "nbgrader": {
     "checksum": "9bf35550640c33f366c5cffad7fdf33a",
     "grade": true,
     "grade_id": "cell-4f961721620a6645",
     "locked": false,
     "points": 0,
     "schema_version": 1,
     "solution": true
    }
   },
   "source": [
    "First, I'll have to determine the length of the two subarrays of A, since that will be the lengths of the lists L & R respectively. Then I will copy the elements in the two subarrays of A and fill them into the lists L & R. Then, I'll have to write a function that checks if the elements in L & R are sorted - if not, I'll have to repeat the whole process again for them.  \n",
    "\n",
    "Then, I will create a for loop to scan the first elements of both L and R to see which one is smaller. Once the smaller element has been identified, it will replace the first term in the parent list A. If the two elements are the same, they will be filled in side by side in the parent list A. This process will be repeated until the parents list A is fully-sorted."
   ]
  },
  {
   "cell_type": "markdown",
   "metadata": {
    "deletable": false,
    "editable": false,
    "nbgrader": {
     "checksum": "010584ea3a4f00fba43b52bb04cd0ed2",
     "grade": false,
     "grade_id": "cell-84932c7c0c20b750",
     "locked": true,
     "schema_version": 1,
     "solution": false
    }
   },
   "source": [
    "## Question 3.\n",
    "\n",
    "Write a Python implementation of the merge pseudocode (both parts), your Python function must take the same four input arguments as described in the $MERGE(A,p,q,r)$. Test your code by running the example in problem 1 and 2 of this pre-class work. Feel free to come up with additional cases to check if your code is working properly. Your code should return A "
   ]
  },
  {
   "cell_type": "code",
   "execution_count": 6,
   "metadata": {
    "deletable": false,
    "nbgrader": {
     "checksum": "43760e27d0b385c30476353b3d546a79",
     "grade": false,
     "grade_id": "cell-a67719d65c1ac9f3",
     "locked": false,
     "schema_version": 1,
     "solution": true
    }
   },
   "outputs": [
    {
     "ename": "IndexError",
     "evalue": "list assignment index out of range",
     "output_type": "error",
     "traceback": [
      "\u001b[0;31m---------------------------------------------------------------------------\u001b[0m",
      "\u001b[0;31mIndexError\u001b[0m                                Traceback (most recent call last)",
      "\u001b[0;32m<ipython-input-6-b1a59f9b3361>\u001b[0m in \u001b[0;36m<module>\u001b[0;34m\u001b[0m\n\u001b[1;32m     22\u001b[0m             \u001b[0mj\u001b[0m \u001b[0;34m=\u001b[0m \u001b[0mj\u001b[0m \u001b[0;34m+\u001b[0m \u001b[0;36m1\u001b[0m\u001b[0;34m\u001b[0m\u001b[0;34m\u001b[0m\u001b[0m\n\u001b[1;32m     23\u001b[0m \u001b[0;34m\u001b[0m\u001b[0m\n\u001b[0;32m---> 24\u001b[0;31m \u001b[0mprint\u001b[0m\u001b[0;34m(\u001b[0m\u001b[0mmerge\u001b[0m\u001b[0;34m(\u001b[0m\u001b[0mZ\u001b[0m\u001b[0;34m,\u001b[0m \u001b[0;36m0\u001b[0m\u001b[0;34m,\u001b[0m \u001b[0;36m3\u001b[0m\u001b[0;34m,\u001b[0m \u001b[0;36m7\u001b[0m\u001b[0;34m)\u001b[0m\u001b[0;34m)\u001b[0m\u001b[0;34m\u001b[0m\u001b[0;34m\u001b[0m\u001b[0m\n\u001b[0m",
      "\u001b[0;32m<ipython-input-6-b1a59f9b3361>\u001b[0m in \u001b[0;36mmerge\u001b[0;34m(A, p, q, r)\u001b[0m\n\u001b[1;32m      7\u001b[0m     \u001b[0mr\u001b[0m \u001b[0;34m=\u001b[0m \u001b[0;34m[\u001b[0m\u001b[0;34m]\u001b[0m\u001b[0;34m\u001b[0m\u001b[0;34m\u001b[0m\u001b[0m\n\u001b[1;32m      8\u001b[0m     \u001b[0;32mfor\u001b[0m \u001b[0mi\u001b[0m \u001b[0;32min\u001b[0m \u001b[0mrange\u001b[0m\u001b[0;34m(\u001b[0m\u001b[0;36m0\u001b[0m\u001b[0;34m,\u001b[0m \u001b[0mn1\u001b[0m\u001b[0;34m)\u001b[0m\u001b[0;34m:\u001b[0m\u001b[0;34m\u001b[0m\u001b[0;34m\u001b[0m\u001b[0m\n\u001b[0;32m----> 9\u001b[0;31m         \u001b[0ml\u001b[0m\u001b[0;34m[\u001b[0m\u001b[0mi\u001b[0m\u001b[0;34m]\u001b[0m \u001b[0;34m=\u001b[0m \u001b[0mA\u001b[0m\u001b[0;34m[\u001b[0m\u001b[0mp\u001b[0m \u001b[0;34m+\u001b[0m \u001b[0mi\u001b[0m \u001b[0;34m-\u001b[0m \u001b[0;36m1\u001b[0m\u001b[0;34m]\u001b[0m\u001b[0;34m\u001b[0m\u001b[0;34m\u001b[0m\u001b[0m\n\u001b[0m\u001b[1;32m     10\u001b[0m     \u001b[0;32mfor\u001b[0m \u001b[0mj\u001b[0m \u001b[0;32min\u001b[0m \u001b[0mrange\u001b[0m\u001b[0;34m(\u001b[0m\u001b[0;36m0\u001b[0m\u001b[0;34m,\u001b[0m \u001b[0mn2\u001b[0m\u001b[0;34m)\u001b[0m\u001b[0;34m:\u001b[0m\u001b[0;34m\u001b[0m\u001b[0;34m\u001b[0m\u001b[0m\n\u001b[1;32m     11\u001b[0m         \u001b[0mr\u001b[0m\u001b[0;34m[\u001b[0m\u001b[0mj\u001b[0m\u001b[0;34m]\u001b[0m \u001b[0;34m=\u001b[0m \u001b[0mA\u001b[0m\u001b[0;34m[\u001b[0m\u001b[0mq\u001b[0m \u001b[0;34m+\u001b[0m \u001b[0mj\u001b[0m\u001b[0;34m]\u001b[0m\u001b[0;34m\u001b[0m\u001b[0;34m\u001b[0m\u001b[0m\n",
      "\u001b[0;31mIndexError\u001b[0m: list assignment index out of range"
     ]
    }
   ],
   "source": [
    "Z = [2, 6, 7, 8, 1, 4, 6, 9]\n",
    "\n",
    "def merge(A, p, q, r):\n",
    "    n1 = q - p + 1\n",
    "    n2 = r - q\n",
    "    l = []\n",
    "    r = []\n",
    "    for i in range(1, n1):\n",
    "        l[i] = A[p + i - 1]\n",
    "    for j in range(1, n2):\n",
    "        r[j] = A[q + j]\n",
    "    l[n1 + 1] = x\n",
    "    r[n2 + 1] = x\n",
    "    i = 1\n",
    "    j = 1\n",
    "    for k in range(p, r):\n",
    "        if l[i] <= r[j]:\n",
    "            A[k] = l[i]\n",
    "            i = i + 1\n",
    "        else:\n",
    "            A[k] = r[j]\n",
    "            j = j + 1   \n",
    "            \n",
    "print(merge(Z, 1, 4, 8))"
   ]
  },
  {
   "cell_type": "code",
   "execution_count": 58,
   "metadata": {},
   "outputs": [
    {
     "name": "stdout",
     "output_type": "stream",
     "text": [
      "[1, 2, 4, 6, 6, 7, 8, 9]\n"
     ]
    }
   ],
   "source": [
    "import math as m\n",
    "Z = [2, 6, 7, 8, 1, 4, 6, 9]\n",
    "\n",
    "def merge(A, p, q, r):\n",
    "    n1 = q - p + 1\n",
    "    n2 = r - q\n",
    "    L = [None]*(q - p + 1)\n",
    "    R = [None]*(r - q)\n",
    "    for i in range(0, n1):\n",
    "        L[i] = A[p + i - 1]\n",
    "    for j in range(0, n2):\n",
    "        R[j] = A[q + j]\n",
    "    L.append(m.inf)\n",
    "    R.append(m.inf)\n",
    "    i = 0\n",
    "    j = 0\n",
    "    for k in range(p-1, r):\n",
    "        if L[i] <= R[j]:\n",
    "            A[k] = L[i]\n",
    "            i = i + 1\n",
    "        else:\n",
    "            A[k] = R[j]\n",
    "            j = j + 1 \n",
    "    return A\n",
    "            \n",
    "print(merge(Z, 1, 4, 8))"
   ]
  },
  {
   "cell_type": "code",
   "execution_count": null,
   "metadata": {
    "deletable": false,
    "editable": false,
    "nbgrader": {
     "checksum": "699908274975a6bff4f9fb021e666ce4",
     "grade": true,
     "grade_id": "cell-e98759fe14428af0",
     "locked": true,
     "points": 0,
     "schema_version": 1,
     "solution": false
    }
   },
   "outputs": [],
   "source": [
    "# Please ignore this cell. This cell is for us to implement the tests \n",
    "# to see if your code works properly. "
   ]
  },
  {
   "cell_type": "markdown",
   "metadata": {
    "deletable": false,
    "editable": false,
    "nbgrader": {
     "checksum": "35e241fec3dd026733d04a51fa2972fe",
     "grade": false,
     "grade_id": "cell-49f3f61ee6d72bb9",
     "locked": true,
     "schema_version": 1,
     "solution": false
    }
   },
   "source": [
    "## Question 2\n",
    "Suppose that your Python implementation of the merge algorithm is already working. Inspect the code for merge sort below:"
   ]
  },
  {
   "cell_type": "code",
   "execution_count": null,
   "metadata": {
    "deletable": false,
    "editable": false,
    "nbgrader": {
     "checksum": "53611abb1448334a346783091382fb12",
     "grade": false,
     "grade_id": "cell-073a21c6aac8225e",
     "locked": true,
     "schema_version": 1,
     "solution": false
    }
   },
   "outputs": [],
   "source": [
    "def merge_sort(A,p,r):\n",
    "    if p < r:\n",
    "        q = (p+r)/2\n",
    "        merge_sort(A,p,q)\n",
    "        merge_sort(A,q+1,r)\n",
    "        merge(A,p,q,r)\n",
    "    return(A)"
   ]
  },
  {
   "cell_type": "markdown",
   "metadata": {
    "deletable": false,
    "editable": false,
    "nbgrader": {
     "checksum": "b708edb1e6e70731f3ec68d1d11c2890",
     "grade": false,
     "grade_id": "cell-c19a4320995e15b2",
     "locked": true,
     "schema_version": 1,
     "solution": false
    }
   },
   "source": [
    "Copy and paste the code above to the cell below and fix the bug in it. "
   ]
  },
  {
   "cell_type": "code",
   "execution_count": 164,
   "metadata": {
    "deletable": false,
    "nbgrader": {
     "checksum": "d52aee435812fe91886c6dcdfc4e3f6d",
     "grade": false,
     "grade_id": "cell-311695db35c06d65",
     "locked": false,
     "schema_version": 1,
     "solution": true
    }
   },
   "outputs": [],
   "source": [
    "def merge_sort(A,p,r):\n",
    "    if p < r:\n",
    "        q = (p+r)//2  #to make sure that we account for lists that have an uneven number of elements\n",
    "        merge_sort(A,p,q)\n",
    "        merge_sort(A,q+1,r)\n",
    "        merge(A,p,q,r)\n",
    "    return(A)"
   ]
  },
  {
   "cell_type": "code",
   "execution_count": null,
   "metadata": {
    "deletable": false,
    "editable": false,
    "nbgrader": {
     "checksum": "35fbb3c437b3ba39ede0d87d6719223b",
     "grade": true,
     "grade_id": "cell-a3a71f67390c1f82",
     "locked": true,
     "points": 0,
     "schema_version": 1,
     "solution": false
    }
   },
   "outputs": [],
   "source": [
    "# Please ignore this cell. This cell is for us to implement the tests \n",
    "# to see if your code works properly. "
   ]
  },
  {
   "cell_type": "markdown",
   "metadata": {
    "deletable": false,
    "editable": false,
    "nbgrader": {
     "checksum": "61cfba995efe3c9c37092a650047fdf3",
     "grade": false,
     "grade_id": "cell-5b296f793fefdbfe",
     "locked": true,
     "schema_version": 1,
     "solution": false
    }
   },
   "source": [
    "# Question 5.\n",
    "As in the previous Lesson, count the number of steps and time your merge_sort() function with the following input: `list_k = [i for i in range(100*k, 0, -1)] `, where $k= 1, 2, 3, …, 15 $. \n"
   ]
  },
  {
   "cell_type": "code",
   "execution_count": 167,
   "metadata": {
    "deletable": false,
    "nbgrader": {
     "checksum": "cc3f59157e795d05422e849f3e7cc03a",
     "grade": true,
     "grade_id": "cell-8a4233ab58d3d0bb",
     "locked": false,
     "points": 0,
     "schema_version": 1,
     "solution": true
    }
   },
   "outputs": [
    {
     "name": "stdout",
     "output_type": "stream",
     "text": [
      "[1, 1, 2, 2, 4, 4, 6, 6, 6, 6, 7, 7, 8, 8, 9, 9]\n"
     ]
    }
   ],
   "source": [
    "import math as m\n",
    "Z = [2, 6, 7, 8, 1, 4, 6, 9, 2, 6, 7, 8, 1, 4, 6, 9]\n",
    "\n",
    "def merge(A, p, q, r):\n",
    "    n1 = q - p + 1\n",
    "    n2 = r - q\n",
    "    L = [None]*(q - p + 1)\n",
    "    R = [None]*(r - q)\n",
    "    for i in range(0, n1):\n",
    "        L[i] = A[p + i - 1]\n",
    "    for j in range(0, n2):\n",
    "        R[j] = A[q + j]\n",
    "    L.append(m.inf)\n",
    "    R.append(m.inf)\n",
    "    i = 0\n",
    "    j = 0\n",
    "    for k in range(p-1, r):\n",
    "        if L[i] <= R[j]:\n",
    "            A[k] = L[i]\n",
    "            i = i + 1\n",
    "        else:\n",
    "            A[k] = R[j]\n",
    "            j = j + 1 \n",
    "    return A\n",
    "\n",
    "def merge_sort(A,p,r):\n",
    "    if p < r:\n",
    "        q = (p+r)//2  #for an uneven number of items in the list we need to do this \n",
    "                         #to obtain the term before the midpoint\n",
    "        merge_sort(A,p,q)\n",
    "        merge_sort(A,q+1,r)\n",
    "        merge(A,p,q,r)\n",
    "    return(A)\n",
    "\n",
    "print(merge_sort(Z, 1, 16))"
   ]
  },
  {
   "cell_type": "markdown",
   "metadata": {},
   "source": [
    "# Question 6. \n",
    "Use the code you wrote for Lesson 1.2 (i.e., selection sort, bubble sort, insertion sort). Plot the following graphs:\n",
    "* **Graph 1**: 4 lines for **the number of steps** of each of the 4 sorting algorithms (i.e., selection sort, bubble sort, insertion sort, merge sort). Which algorithm performs best? Why? \n",
    "* **Graph 2**: 4 lines for **the timing** of each of the 4 sorting algorithms (i.e., selection sort, bubble sort, insertion sort, merge sort). Which algorithm performs best? Why?\n",
    "\n",
    "Using as many cells as you wish (code cells or markdown cells alike) to complete this question.\n"
   ]
  },
  {
   "cell_type": "code",
   "execution_count": 254,
   "metadata": {
    "deletable": false,
    "nbgrader": {
     "checksum": "0561f29260f91795736500d62066a4c7",
     "grade": true,
     "grade_id": "cell-d09efb7c7fe55e69",
     "locked": false,
     "points": 0,
     "schema_version": 1,
     "solution": true
    }
   },
   "outputs": [
    {
     "name": "stdout",
     "output_type": "stream",
     "text": [
      "The merge sort algorithm took 0.10593581199645996 seconds and involved 277231 steps.\n"
     ]
    }
   ],
   "source": [
    "import time\n",
    "import random\n",
    "import math as m\n",
    "\n",
    "### MERGE SORT ###\n",
    "\n",
    "counter = []\n",
    "\n",
    "def merge(A, p, q, r):\n",
    "    n1 = q - p + 1\n",
    "    n2 = r - q\n",
    "    L = [None]*(q - p + 1)\n",
    "    R = [None]*(r - q)\n",
    "    for i in range(0, n1):\n",
    "        L[i] = A[p + i - 1]\n",
    "        counter.append(1)\n",
    "    for j in range(0, n2):\n",
    "        R[j] = A[q + j]\n",
    "        counter.append(1)\n",
    "    L.append(m.inf)\n",
    "    R.append(m.inf)\n",
    "    i = 0\n",
    "    j = 0\n",
    "    for k in range(p-1, r):\n",
    "        if L[i] <= R[j]:\n",
    "            A[k] = L[i]\n",
    "            i = i + 1\n",
    "        else:\n",
    "            A[k] = R[j]\n",
    "            j = j + 1\n",
    "        counter.append(1)\n",
    "    return (A)\n",
    "\n",
    "def merge_sort(A,p,r):\n",
    "    if p < r:\n",
    "        q = (p+r)//2 \n",
    "        merge_sort(A,p,q)\n",
    "        merge_sort(A,q+1,r)\n",
    "        merge(A,p,q,r)\n",
    "        counter.append(1)\n",
    "    return(A)\n",
    "\n",
    "Z = random.sample(range(100000), 10000)    #generates random lists to sort.\n",
    "start = time.time()                        #starts counting time.\n",
    "merge_sort(Z, 1, len(Z))                  #sorts list.\n",
    "end = time.time()                         #stops counting time.\n",
    "timediff = end-start                       #time difference\n",
    "\n",
    "print(f\"The merge sort algorithm took {timediff} seconds and involved {len(counter)} steps.\")"
   ]
  },
  {
   "cell_type": "code",
   "execution_count": 255,
   "metadata": {},
   "outputs": [
    {
     "name": "stdout",
     "output_type": "stream",
     "text": [
      "The bubble sort algorithm took 25.039914846420288 seconds and involved 124957307 steps.\n"
     ]
    }
   ],
   "source": [
    "### BUBBLE SORT ###\n",
    "Z = random.sample(range(100000), 10000)\n",
    "counter_bubble = []\n",
    "\n",
    "def bubbleSort(A):\n",
    "    x = len(A)\n",
    "    counter_bubble.append(1)\n",
    "    for i in range(x):\n",
    "        counter_bubble.append(1)\n",
    "        for j in range(0, x-i-1):\n",
    "            counter_bubble.append(1)\n",
    "            if A[j] > A[j+1]:\n",
    "                A[j+1], A[j] = A[j], A[j+1]\n",
    "                counter_bubble.append(1)\n",
    "            counter_bubble.append(1)\n",
    "    return A\n",
    "\n",
    "start = time.time()                        #starts counting time.\n",
    "bubbleSort(Z)                              #sorts list.\n",
    "end = time.time()                         #stops counting time.\n",
    "timediff_bubble = end-start               #time difference\n",
    "\n",
    "print(f\"The bubble sort algorithm took {timediff_bubble} seconds and involved {len(counter_bubble)} steps.\")"
   ]
  },
  {
   "cell_type": "code",
   "execution_count": 256,
   "metadata": {},
   "outputs": [
    {
     "name": "stdout",
     "output_type": "stream",
     "text": [
      "The insertion sort algorithm took 15.29994821548462 seconds and involved 75196566 steps.\n"
     ]
    }
   ],
   "source": [
    "### INSERTION SORT ###\n",
    "counter_insertion = []\n",
    "Z = random.sample(range(100000), 10000)\n",
    "def insertionSort(A):\n",
    "    for j in range(len(A)):\n",
    "        key = A[j]\n",
    "        i= j-1\n",
    "        while i >= 0 and A[i]>key:\n",
    "            A[i+1] = A[i]\n",
    "            counter_insertion.append(1)\n",
    "            i -= 1\n",
    "            counter_insertion.append(1)\n",
    "            A[i+1] = key\n",
    "            counter_insertion.append(1)\n",
    "    return A\n",
    "\n",
    "start = time.time()                        #starts counting time.\n",
    "insertionSort(Z)                              #sorts list.\n",
    "end = time.time()                         #stops counting time.\n",
    "timediff_insertion = end-start               #time difference\n",
    "\n",
    "print(f\"The insertion sort algorithm took {timediff_insertion} seconds and involved {len(counter_insertion)} steps.\")"
   ]
  },
  {
   "cell_type": "code",
   "execution_count": 268,
   "metadata": {},
   "outputs": [
    {
     "name": "stdout",
     "output_type": "stream",
     "text": [
      "The selection sort algorithm took 10.335607767105103 seconds and involved 50082211 steps.\n"
     ]
    }
   ],
   "source": [
    "### SELECTION SORT ###\n",
    "import sys \n",
    "Z = random.sample(range(100000), 10000)\n",
    "\n",
    "counter_selection = []\n",
    "\n",
    "# Traverse through all array elements \n",
    "def selectionSort(A):\n",
    "    for i in range(len(A)): \n",
    "        counter_selection.append(1)\n",
    "    # Find the minimum element in remaining  \n",
    "    # unsorted array \n",
    "        min_idx = i \n",
    "        for j in range(i+1, len(A)):\n",
    "            counter_selection.append(1)\n",
    "            if A[min_idx] > A[j]: \n",
    "                min_idx = j \n",
    "                counter_selection.append(1)\n",
    "              \n",
    "    # Swap the found minimum element with  \n",
    "    # the first element         \n",
    "        A[i], A[min_idx] = A[min_idx], A[i] \n",
    "        \n",
    "    return(A)\n",
    "\n",
    "start = time.time()                        #starts counting time.\n",
    "selectionSort(Z)                              #sorts list.\n",
    "end = time.time()                         #stops counting time.\n",
    "timediff_selection = end-start               #time difference\n",
    "\n",
    "print(f\"The selection sort algorithm took {timediff_selection} seconds and involved {len(counter_selection)} steps.\")"
   ]
  },
  {
   "cell_type": "code",
   "execution_count": 269,
   "metadata": {},
   "outputs": [
    {
     "data": {
      "image/png": "[encoded data removed]",
      "text/plain": [
       "<Figure size 432x288 with 1 Axes>"
      ]
     },
     "metadata": {
      "needs_background": "light"
     },
     "output_type": "display_data"
    }
   ],
   "source": [
    "import matplotlib.pyplot as plt \n",
    "\n",
    "# x-coordinates of left sides of bars \n",
    "left = [1, 2, 3, 4] \n",
    "\n",
    "# heights of bars \n",
    "height = [timediff, timediff_bubble, timediff_insertion, timediff_selection] \n",
    "\n",
    "# labels for bars \n",
    "tick_label = [\"Merge Sort\", \"Bubble Sort\", \"Insertion Sort\", \"Selection Sort\"] \n",
    "\n",
    "# plotting a bar chart \n",
    "plt.bar(left, height, tick_label = tick_label, width = 0.5, color = ['blue', 'green', 'yellow', 'red']) \n",
    "\n",
    "# naming the x-axis \n",
    "plt.xlabel('Sorting Algorithm') \n",
    "# naming the y-axis \n",
    "plt.ylabel('Time Taken (s)') \n",
    "# plot title \n",
    "plt.title('The time taken for various sorting algorithms to sort 10,000 random numbers between 0 and 100,000') \n",
    "\n",
    "# function to show the plot \n",
    "plt.show() \n"
   ]
  },
  {
   "cell_type": "code",
   "execution_count": 270,
   "metadata": {},
   "outputs": [
    {
     "data": {
      "image/png": "[encoded data removed]",
      "text/plain": [
       "<Figure size 432x288 with 1 Axes>"
      ]
     },
     "metadata": {
      "needs_background": "light"
     },
     "output_type": "display_data"
    }
   ],
   "source": [
    "import matplotlib.pyplot as plt \n",
    "\n",
    "# x-coordinates of left sides of bars \n",
    "left = [1, 2, 3, 4] \n",
    "\n",
    "# heights of bars \n",
    "height = [len(counter), len(counter_bubble), len(counter_insertion), len(counter_selection)] \n",
    "\n",
    "# labels for bars \n",
    "tick_label = [\"Merge Sort\", \"Bubble Sort\", \"Insertion Sort\", \"Selection Sort\"] \n",
    "\n",
    "# plotting a bar chart \n",
    "plt.bar(left, height, tick_label = tick_label, width = 0.5, color = ['blue', 'green', 'yellow', 'red']) \n",
    "\n",
    "# naming the x-axis \n",
    "plt.xlabel('Sorting Algorithm') \n",
    "# naming the y-axis \n",
    "plt.ylabel('Number of Steps Taken') \n",
    "# plot title \n",
    "plt.title('The number of steps taken for various sorting algorithms to sort 10,000 random numbers between 0 and 100,000') \n",
    "\n",
    "# function to show the plot \n",
    "plt.show() \n"
   ]
  }
 ],
 "metadata": {
  "kernelspec": {
   "display_name": "Python 3",
   "language": "python",
   "name": "python3"
  },
  "language_info": {
   "codemirror_mode": {
    "name": "ipython",
    "version": 3
   },
   "file_extension": ".py",
   "mimetype": "text/x-python",
   "name": "python",
   "nbconvert_exporter": "python",
   "pygments_lexer": "ipython3",
   "version": "3.7.3"
  }
 },
 "nbformat": 4,
 "nbformat_minor": 2
}
