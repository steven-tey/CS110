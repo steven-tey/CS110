{
 "cells": [
  {
   "cell_type": "markdown",
   "metadata": {},
   "source": [
    "Before you turn this problem in, make sure everything runs as expected. First, **restart the kernel** (in the menubar, select Kernel$\\rightarrow$Restart) and then **run all cells** (in the menubar, select Cell$\\rightarrow$Run All).\n",
    "\n",
    "Make sure you fill in any place that says `YOUR CODE HERE` or \"YOUR ANSWER HERE\", as well as your name and collaborators below:"
   ]
  },
  {
   "cell_type": "code",
   "execution_count": null,
   "metadata": {},
   "outputs": [],
   "source": [
    "NAME = Steven Tey\n",
    "COLLABORATORS = \"\""
   ]
  },
  {
   "cell_type": "markdown",
   "metadata": {},
   "source": [
    "---"
   ]
  },
  {
   "cell_type": "markdown",
   "metadata": {
    "deletable": false,
    "editable": false,
    "nbgrader": {
     "checksum": "1a4c3cfc3c34bf644ee45d91835b6f70",
     "grade": false,
     "grade_id": "cell-61b183447ded09ef",
     "locked": true,
     "schema_version": 1,
     "solution": false
    }
   },
   "source": [
    "# CS110 Pre-class Work 5.2\n",
    "\n",
    "## Question 1.\n",
    "Using Figure 7.1 in Cormen et al. as a model, perform manually the partition process on the following list: A = [1,5,6,2,3,8,9,4,7]. You just need to specify the followings:\n",
    "1. The array after the process is done.\n",
    "2. The value of $i$ after the process is done."
   ]
  },
  {
   "cell_type": "markdown",
   "metadata": {
    "deletable": false,
    "nbgrader": {
     "checksum": "06dce98d07f8f042785a795b32e7ef75",
     "grade": true,
     "grade_id": "cell-7aa520f8af13679b",
     "locked": false,
     "points": 0,
     "schema_version": 1,
     "solution": true
    }
   },
   "source": [
    "``[1,5,6,2,3,8,9,4,7]``\n",
    "\n",
    "First, compare the first value to the last value, which is our pivot value. If the first value is larger than the last value, switch the two values. In this case, the first value is smaller than the last value, so we proceed to the next step.\n",
    "\n",
    "Now, we compare the second value to our pivot value. 5 is smaller than 7, so we move on to the third value and compare that to our pivot value again. 6 is smaller than 7, so we move on. The next two values, 5 and 3, are both smaller than 7, so no swaps happen. Our list is still the same as it is before.\n",
    "\n",
    "``[1,5,6,2,3,8,9,4,7]``\n",
    "\n",
    "Now, we compare 8 to our pivot value. Since 8 is bigger than 7, we group that under the elements to the right of the partition. We then move on to 9, which is also bigger than 7, thus we add that to the right group as well. 4, however, is smaller than 7, and therefore we have to swap 8 with 4\n",
    "\n",
    "``[1,5,6,2,3,4,9,8,7]``\n",
    "\n",
    "Finally, we swap 9 with 7 to get the final array after the partition process.\n",
    "\n",
    "``[1,5,6,2,3,4,7,8,9]``\n",
    "\n",
    "The value of $i$, in this case, is 6, since our pivot value is currently in the position of $i = 6$ in the array."
   ]
  },
  {
   "cell_type": "markdown",
   "metadata": {
    "deletable": false,
    "editable": false,
    "nbgrader": {
     "checksum": "21059776e9083caf84e8abb5b6fb893e",
     "grade": false,
     "grade_id": "cell-6c0a9dfd6980c336",
     "locked": true,
     "schema_version": 1,
     "solution": false
    }
   },
   "source": [
    "## Question 2.\n",
    "Code up a Python implementation of `partition(A, p, r)`, closely follow the pseudo-code in Cormen et al., p.172. Your function should return the index of the pivot in the array."
   ]
  },
  {
   "cell_type": "code",
   "execution_count": 65,
   "metadata": {
    "deletable": false,
    "nbgrader": {
     "checksum": "395997ac94ed1416c67b22f7977c07a5",
     "grade": false,
     "grade_id": "cell-1ceb2600756c60ff",
     "locked": false,
     "schema_version": 1,
     "solution": true
    }
   },
   "outputs": [],
   "source": [
    "def partition(A,p,r):\n",
    "    \"\"\"\n",
    "    Assume r<len(A) and p>=0\n",
    "    \"\"\"\n",
    "    x = A[r]\n",
    "    i = p-1\n",
    "    for j in range(p, r):\n",
    "        if A[j] <= x:\n",
    "            i += 1\n",
    "            A[i], A[j] = A[j], A[i]\n",
    "    A[i+1], A[r] = A[r], A[i+1]\n",
    "    return i+1"
   ]
  },
  {
   "cell_type": "code",
   "execution_count": 66,
   "metadata": {
    "deletable": false,
    "editable": false,
    "nbgrader": {
     "checksum": "34aa315313b6f9d8de8efe0922e5b563",
     "grade": true,
     "grade_id": "cell-a57b60117a7b82fb",
     "locked": true,
     "points": 1,
     "schema_version": 1,
     "solution": false
    }
   },
   "outputs": [],
   "source": [
    "A = [1,5,6,2,3,8,9,4,7]\n",
    "assert(partition(A, 0, len(A)-1)==6)"
   ]
  },
  {
   "cell_type": "markdown",
   "metadata": {
    "deletable": false,
    "editable": false,
    "nbgrader": {
     "checksum": "3496e310776eba92a8290d114db627cd",
     "grade": false,
     "grade_id": "cell-cd490c45f6733522",
     "locked": true,
     "schema_version": 1,
     "solution": false
    }
   },
   "source": [
    "## Question 3.\n",
    "\n",
    "Code up your own Python implementation of `quicksort(A, p, r)`, using `partition(A,p,r)`."
   ]
  },
  {
   "cell_type": "code",
   "execution_count": 67,
   "metadata": {
    "deletable": false,
    "nbgrader": {
     "checksum": "7e40c51fd1bd31c790aa0dd8abde1fb7",
     "grade": false,
     "grade_id": "cell-8c39ebb8cd1aa83a",
     "locked": false,
     "schema_version": 1,
     "solution": true
    }
   },
   "outputs": [],
   "source": [
    "def quick_sort(A,p,r):\n",
    "    if p < r:\n",
    "        q = partition(A,p,r)\n",
    "        quick_sort(A,p,q-1)\n",
    "        quick_sort(A,q+1,r)\n",
    "    return A # Important step - the algorithm wouldn't return anything without this command"
   ]
  },
  {
   "cell_type": "code",
   "execution_count": 68,
   "metadata": {
    "deletable": false,
    "editable": false,
    "nbgrader": {
     "checksum": "80923d1142f0ef958a616db1105a8c1a",
     "grade": true,
     "grade_id": "cell-4f822430efd456ee",
     "locked": true,
     "points": 1,
     "schema_version": 1,
     "solution": false
    }
   },
   "outputs": [],
   "source": [
    "A = [0]\n",
    "assert(quick_sort(A, 0, 0) == [0])\n",
    "A = [3,1,2]\n",
    "assert(quick_sort(A, 0, 2) == [1,2,3])"
   ]
  },
  {
   "cell_type": "markdown",
   "metadata": {
    "deletable": false,
    "editable": false,
    "nbgrader": {
     "checksum": "741cfe874ccaef343713f81ec963360c",
     "grade": false,
     "grade_id": "cell-53941fba9302c591",
     "locked": true,
     "schema_version": 1,
     "solution": false
    }
   },
   "source": [
    "## Question 4. \n",
    "Explain (using experimental plots) the running time of `quick_sort` when: \n",
    "1. all elements of array A have the same value (e.g., [1,1,1])?\n",
    "2. array A contains distinct elements sorted in decreasing order (e.g., [5,4,2,1])?\n"
   ]
  },
  {
   "cell_type": "code",
   "execution_count": 100,
   "metadata": {
    "deletable": false,
    "nbgrader": {
     "checksum": "f5ddaf0e684d72d229df078b18f321f8",
     "grade": true,
     "grade_id": "cell-b58035dd5fa02329",
     "locked": false,
     "points": 0,
     "schema_version": 1,
     "solution": true
    }
   },
   "outputs": [
    {
     "data": {
      "image/png": "[encoded data removed]",
      "text/plain": [
       "<Figure size 960x720 with 1 Axes>"
      ]
     },
     "metadata": {},
     "output_type": "display_data"
    }
   ],
   "source": [
    "import numpy as np\n",
    "import matplotlib.pyplot as plt\n",
    "\n",
    "\n",
    "c = [] # Counter to store the number of steps every time the algorithm runs\n",
    "\n",
    "def partition(A,p,r):\n",
    "    x = A[r]\n",
    "    c.append(1)\n",
    "    i = p-1\n",
    "    c.append(1)\n",
    "    for j in range(p, r):\n",
    "        c.append(1)\n",
    "        if A[j] <= x:\n",
    "            i += 1\n",
    "            c.append(1)\n",
    "            A[i], A[j] = A[j], A[i]\n",
    "            c.append(1) # This exchange counts as two steps\n",
    "            c.append(1)\n",
    "    A[i+1], A[r] = A[r], A[i+1]\n",
    "    c.append(1)\n",
    "    c.append(1)\n",
    "    return i+1\n",
    "    c.append(1)\n",
    "\n",
    "\n",
    "def quick_sort(A,p,r):\n",
    "    if p < r:\n",
    "        q = partition(A,p,r)\n",
    "        c.append(1)\n",
    "        quick_sort(A,p,q-1)\n",
    "        c.append(1)\n",
    "        quick_sort(A,q+1,r)\n",
    "        c.append(1)\n",
    "    return A \n",
    "    c.append(1)\n",
    "\n",
    "same_steps = []\n",
    "descending_steps = []\n",
    "\n",
    "for elements in range(1000):\n",
    "    A_same = np.ones(elements)\n",
    "    quick_sort(A_same,0,len(A_same)-1)\n",
    "    same_steps.append(len(c))\n",
    "    c.clear() # Resetting the counter\n",
    "    \n",
    "    A_descending = list(reversed(range(elements)))\n",
    "    quick_sort(A_descending,0,len(A_descending)-1)\n",
    "    descending_steps.append(len(c))\n",
    "    c.clear()\n",
    "    \n",
    "plt.figure(num=None, figsize=(12, 9), dpi=80, facecolor='w', edgecolor='k')\n",
    "plt.plot(range(1, 1001), same_steps, label = \"List of the same numbers\")\n",
    "plt.plot(range(1, 1001), descending_steps, label = \"List of Descending Numbers\")\n",
    "plt.xlabel(\"Input Size\")\n",
    "plt.ylabel(\"Number of Steps\")\n",
    "plt.legend()\n",
    "plt.title(\"Graph of the Number of Steps that Quicksort() takes to Sort Two Types of Lists of Varying Input Sizes\")\n",
    "plt.show()"
   ]
  },
  {
   "cell_type": "markdown",
   "metadata": {},
   "source": [
    "As we can see from the graph above, as the input size increases, the number of  steps for that the ``quicksort()`` algorithm takes to sort lists of the same numbers increases exponentially but at a might faster rate than the number of steps it takes to sort lists of descending numbers. "
   ]
  }
 ],
 "metadata": {
  "kernelspec": {
   "display_name": "Python 3",
   "language": "python",
   "name": "python3"
  },
  "language_info": {
   "codemirror_mode": {
    "name": "ipython",
    "version": 3
   },
   "file_extension": ".py",
   "mimetype": "text/x-python",
   "name": "python",
   "nbconvert_exporter": "python",
   "pygments_lexer": "ipython3",
   "version": "3.7.3"
  }
 },
 "nbformat": 4,
 "nbformat_minor": 2
}
